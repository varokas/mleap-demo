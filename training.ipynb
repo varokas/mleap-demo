{
 "cells": [
  {
   "cell_type": "markdown",
   "id": "3ff5dafd-25bf-4eef-b16a-e639ba353825",
   "metadata": {},
   "source": [
    "https://github.com/combust/mleap-demo/blob/master/notebooks/PySpark%20-%20AirBnb.ipynb\n",
    "\n",
    "https://combust.github.io/mleap-docs/py-spark/\n",
    "\n"
   ]
  },
  {
   "cell_type": "code",
   "execution_count": 3,
   "id": "78bd3450-093a-457e-842c-7feb4f940b70",
   "metadata": {},
   "outputs": [
    {
     "name": "stdout",
     "output_type": "stream",
     "text": [
      "Collecting mleap\n",
      "  Downloading mleap-0.18.0-py3-none-any.whl (59 kB)\n",
      "\u001b[K     |████████████████████████████████| 59 kB 810 kB/s eta 0:00:01\n",
      "\u001b[?25hRequirement already satisfied: numpy>=1.8.2 in /opt/conda/lib/python3.9/site-packages (from mleap) (1.20.3)\n",
      "Collecting scikit-learn<0.23.0,>=0.22.0\n",
      "  Downloading scikit-learn-0.22.2.post1.tar.gz (6.9 MB)\n",
      "\u001b[K     |████████████████████████████████| 6.9 MB 3.5 MB/s eta 0:00:01\n",
      "\u001b[?25hRequirement already satisfied: pandas>=0.18.1 in /opt/conda/lib/python3.9/site-packages (from mleap) (1.2.4)\n",
      "Requirement already satisfied: six>=1.10.0 in /opt/conda/lib/python3.9/site-packages (from mleap) (1.16.0)\n",
      "Requirement already satisfied: scipy>=0.13.0b1 in /opt/conda/lib/python3.9/site-packages (from mleap) (1.6.3)\n",
      "Requirement already satisfied: python-dateutil>=2.7.3 in /opt/conda/lib/python3.9/site-packages (from pandas>=0.18.1->mleap) (2.8.1)\n",
      "Requirement already satisfied: pytz>=2017.3 in /opt/conda/lib/python3.9/site-packages (from pandas>=0.18.1->mleap) (2021.1)\n",
      "Requirement already satisfied: joblib>=0.11 in /opt/conda/lib/python3.9/site-packages (from scikit-learn<0.23.0,>=0.22.0->mleap) (1.0.1)\n",
      "Building wheels for collected packages: scikit-learn\n",
      "  Building wheel for scikit-learn (setup.py) ... \u001b[?25ldone\n",
      "\u001b[?25h  Created wheel for scikit-learn: filename=scikit_learn-0.22.2.post1-cp39-cp39-linux_x86_64.whl size=7253431 sha256=4ad4a08447eea900c82cb1161d8c5e8478b66928d2e9a93a993076da4c57d6ed\n",
      "  Stored in directory: /home/jovyan/.cache/pip/wheels/f0/8b/2a/7e1e1a081fbbd083335a795448aca004ad4736ef1d7d4ae062\n",
      "Successfully built scikit-learn\n",
      "Installing collected packages: scikit-learn, mleap\n",
      "  Attempting uninstall: scikit-learn\n",
      "    Found existing installation: scikit-learn 0.24.2\n",
      "    Uninstalling scikit-learn-0.24.2:\n",
      "      Successfully uninstalled scikit-learn-0.24.2\n",
      "Successfully installed mleap-0.18.0 scikit-learn-0.22.2.post1\n"
     ]
    }
   ],
   "source": [
    "!pip install mleap"
   ]
  },
  {
   "cell_type": "code",
   "execution_count": 9,
   "id": "83831559-4153-4a4b-893e-d1a72400c30c",
   "metadata": {},
   "outputs": [
    {
     "name": "stdout",
     "output_type": "stream",
     "text": [
      "--2021-09-16 21:18:54--  https://github.com/combust/mleap-demo/blob/master/data/airbnb.csv?raw=true\n",
      "Resolving github.com (github.com)... 192.30.255.112\n",
      "Connecting to github.com (github.com)|192.30.255.112|:443... connected.\n",
      "HTTP request sent, awaiting response... 302 Found\n",
      "Location: https://github.com/combust/mleap-demo/raw/master/data/airbnb.csv [following]\n",
      "--2021-09-16 21:18:54--  https://github.com/combust/mleap-demo/raw/master/data/airbnb.csv\n",
      "Reusing existing connection to github.com:443.\n",
      "HTTP request sent, awaiting response... 302 Found\n",
      "Location: https://raw.githubusercontent.com/combust/mleap-demo/master/data/airbnb.csv [following]\n",
      "--2021-09-16 21:18:54--  https://raw.githubusercontent.com/combust/mleap-demo/master/data/airbnb.csv\n",
      "Resolving raw.githubusercontent.com (raw.githubusercontent.com)... 185.199.110.133, 185.199.108.133, 185.199.109.133, ...\n",
      "Connecting to raw.githubusercontent.com (raw.githubusercontent.com)|185.199.110.133|:443... connected.\n",
      "HTTP request sent, awaiting response... 200 OK\n",
      "Length: 46839347 (45M) [text/plain]\n",
      "Saving to: ‘airbnb.csv’\n",
      "\n",
      "airbnb.csv          100%[===================>]  44.67M  3.01MB/s    in 14s     \n",
      "\n",
      "2021-09-16 21:19:08 (3.29 MB/s) - ‘airbnb.csv’ saved [46839347/46839347]\n",
      "\n"
     ]
    }
   ],
   "source": [
    "# download file\n",
    "!wget -O airbnb.csv https://github.com/combust/mleap-demo/blob/master/data/airbnb.csv?raw=true"
   ]
  },
  {
   "cell_type": "code",
   "execution_count": 10,
   "id": "f740b158-6d93-4e24-95d8-b45114a4ebe9",
   "metadata": {},
   "outputs": [
    {
     "name": "stdout",
     "output_type": "stream",
     "text": [
      "id,name,price,bedrooms,bathrooms,room_type,square_feet,host_is_superhost,state,cancellation_policy,security_deposit,cleaning_fee,extra_people,number_of_reviews,price_per_bedroom,review_scores_rating,instant_bookable\n",
      "1949687,Delectable Victorian Flat for two,80.0,1.0,1.0,Entire home/apt,,0.0,London,moderate,100.0,20.0,10.0,8,80.0,94.0,0.0\n",
      "3863509,Fully Furnished 3 Bed House/Garden,40.0,1.0,1.0,Private room,,0.0,London,flexible,0.0,0.0,0.0,5,40.0,55.0,0.0\n",
      "1988980,Cozy Double Room in Victorian House,35.0,1.0,1.0,Private room,,0.0,Greenwich,flexible,0.0,5.0,10.0,32,35.0,89.0,0.0\n",
      "2347198,Double Room In Central London.,42.0,1.0,1.0,Private room,,0.0,London,strict,0.0,0.0,15.0,24,42.0,71.0,0.0\n",
      "144337,Fast WIFI Breakfast FREE Parking 5,200.0,1.0,1.5,Private room,250.0,0.0,London,strict,300.0,0.0,20.0,24,200.0,84.0,0.0\n",
      "1372647,Double Room Queens Park/Maida Vale,75.0,1.0,1.0,Private room,,0.0,London,flexible,0.0,0.0,10.0,3,75.0,100.0,0.0\n",
      "2440394,Penthouse bedroom /Private Bath,70.0,1.0,1.0,Private room,,1.0,London,moderate,100.0,30.0,0.0,3,70.0,100.0,0.0\n",
      "1949687,Delectable Victorian Flat for two,80.0,1.0,1.0,Entire home/apt,,0.0,London,moderate,100.0,20.0,10.0,8,80.0,94.0,0.0\n",
      "3863509,Fully Furnished 3 Bed House/Garden,40.0,1.0,1.0,Private room,,0.0,London,flexible,0.0,0.0,0.0,5,40.0,55.0,0.0\n"
     ]
    }
   ],
   "source": [
    "!head airbnb.csv"
   ]
  },
  {
   "cell_type": "code",
   "execution_count": 13,
   "id": "8e19fbce-5cdf-40bc-b0ce-3aef1bda06c2",
   "metadata": {},
   "outputs": [],
   "source": [
    "from mleap import pyspark\n",
    "from mleap.pyspark.spark_support import SimpleSparkSerializer\n",
    "\n",
    "from pyspark.ml.linalg import Vectors\n",
    "from pyspark.ml.feature import VectorAssembler, StandardScaler, OneHotEncoder, StringIndexer\n",
    "from pyspark.ml import Pipeline, PipelineModel\n",
    "from pyspark.ml.regression import LinearRegression\n",
    "from pyspark.ml.classification import LogisticRegression"
   ]
  },
  {
   "cell_type": "code",
   "execution_count": 16,
   "id": "a93927d3-bb2b-4c75-9b3f-acc438352120",
   "metadata": {},
   "outputs": [],
   "source": [
    "from pyspark.sql import SparkSession\n",
    "\n",
    "spark = SparkSession.builder.master(\"local[1]\") \\\n",
    "                    .appName('mleap') \\\n",
    "                    .getOrCreate()"
   ]
  },
  {
   "cell_type": "code",
   "execution_count": 19,
   "id": "fe8c2da7-ba36-461a-9703-588af444eb8c",
   "metadata": {},
   "outputs": [],
   "source": [
    "df = spark.read.option(\"header\", True).csv(\"airbnb.csv\")"
   ]
  },
  {
   "cell_type": "code",
   "execution_count": 20,
   "id": "53fceec1-2a5c-4dbd-9a6c-69d59bb7d0ec",
   "metadata": {},
   "outputs": [
    {
     "name": "stdout",
     "output_type": "stream",
     "text": [
      "389255\n",
      "321588\n"
     ]
    }
   ],
   "source": [
    "datasetFiltered = df.filter(\"price >= 50 AND price <= 750 and bathrooms > 0.0\")\n",
    "print(df.count())\n",
    "print(datasetFiltered.count())"
   ]
  },
  {
   "cell_type": "code",
   "execution_count": 21,
   "id": "0a125072-f5c0-44e0-99cd-72d716009a93",
   "metadata": {},
   "outputs": [],
   "source": [
    "datasetFiltered.registerTempTable(\"df\")"
   ]
  },
  {
   "cell_type": "code",
   "execution_count": 23,
   "id": "6d4393e0-c6bc-4f15-849e-84b3c03ba63a",
   "metadata": {},
   "outputs": [
    {
     "name": "stdout",
     "output_type": "stream",
     "text": [
      "+-------------+-----+---------+---------+\n",
      "|        state|    n|avg_price|max_price|\n",
      "+-------------+-----+---------+---------+\n",
      "|           NY|48362|   146.75|     99.0|\n",
      "|           CA|44716|   158.76|     99.0|\n",
      "|Île-de-France|40732|   107.74|     99.0|\n",
      "|       London|17542|   117.72|     99.0|\n",
      "|          NSW|14416|   167.96|     99.0|\n",
      "|       Berlin|13098|    81.01|     99.0|\n",
      "|Noord-Holland| 8890|   128.56|     99.0|\n",
      "|          VIC| 8636|   144.49|     99.0|\n",
      "|North Holland| 7636|   134.60|     99.0|\n",
      "|           IL| 7544|   141.85|     99.0|\n",
      "|           ON| 7186|   129.05|     99.0|\n",
      "|           TX| 6702|   196.59|     99.0|\n",
      "|           WA| 5858|   132.48|     99.0|\n",
      "|    Catalonia| 5748|   106.39|     99.0|\n",
      "|           BC| 5522|   133.14|     99.0|\n",
      "|           DC| 5476|   136.56|     99.0|\n",
      "|       Québec| 5116|   104.98|     98.0|\n",
      "|    Catalunya| 4570|    99.36|     99.0|\n",
      "|       Veneto| 4486|   131.71|     99.0|\n",
      "|           OR| 4330|   114.02|     99.0|\n",
      "+-------------+-----+---------+---------+\n",
      "only showing top 20 rows\n",
      "\n"
     ]
    }
   ],
   "source": [
    "spark.sql(\"\"\"\n",
    "    select \n",
    "        state,\n",
    "        count(*) as n,\n",
    "        cast(avg(price) as decimal(12,2)) as avg_price,\n",
    "        max(price) as max_price\n",
    "    from df\n",
    "    group by state\n",
    "    order by count(*) desc\n",
    "\"\"\").show()"
   ]
  },
  {
   "cell_type": "code",
   "execution_count": null,
   "id": "f01a5219-3f00-40e7-831d-15e21089c52c",
   "metadata": {},
   "outputs": [],
   "source": []
  }
 ],
 "metadata": {
  "kernelspec": {
   "display_name": "Python 3",
   "language": "python",
   "name": "python3"
  },
  "language_info": {
   "codemirror_mode": {
    "name": "ipython",
    "version": 3
   },
   "file_extension": ".py",
   "mimetype": "text/x-python",
   "name": "python",
   "nbconvert_exporter": "python",
   "pygments_lexer": "ipython3",
   "version": "3.9.4"
  }
 },
 "nbformat": 4,
 "nbformat_minor": 5
}
